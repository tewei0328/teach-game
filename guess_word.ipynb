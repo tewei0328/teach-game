{
  "nbformat": 4,
  "nbformat_minor": 0,
  "metadata": {
    "colab": {
      "provenance": [],
      "authorship_tag": "ABX9TyOc5htnwReVQJtroxfGQtZU",
      "include_colab_link": true
    },
    "kernelspec": {
      "name": "python3",
      "display_name": "Python 3"
    },
    "language_info": {
      "name": "python"
    }
  },
  "cells": [
    {
      "cell_type": "markdown",
      "metadata": {
        "id": "view-in-github",
        "colab_type": "text"
      },
      "source": [
        "<a href=\"https://colab.research.google.com/github/tewei0328/game/blob/master/guess_word.ipynb\" target=\"_parent\"><img src=\"https://colab.research.google.com/assets/colab-badge.svg\" alt=\"Open In Colab\"/></a>"
      ]
    },
    {
      "cell_type": "markdown",
      "source": [
        "https://cyublog.com/articles/python-zh/colab-guess-word-game/"
      ],
      "metadata": {
        "id": "kNF2To5wrTr6"
      }
    },
    {
      "cell_type": "code",
      "execution_count": 1,
      "metadata": {
        "colab": {
          "base_uri": "https://localhost:8080/"
        },
        "id": "e6iiZH-WqDj4",
        "outputId": "b7737e03-5c88-4c25-a860-616fb67397fb"
      },
      "outputs": [
        {
          "output_type": "stream",
          "name": "stdout",
          "text": [
            "\n",
            "輸入一字母: h\n",
            "_ _ _ _ _ _ _ _ _ _\n",
            "剩餘12回合\n",
            "\n",
            "輸入一字母: international\n",
            "_ _ _ _ _ _ _ _ _ _\n",
            "剩餘11回合\n",
            "\n",
            "輸入一字母: goverment\n",
            "_ _ _ _ _ _ _ _ _ _\n",
            "剩餘10回合\n",
            "\n",
            "輸入一字母: government\n",
            "_ _ _ _ _ _ _ _ _ _\n",
            "剩餘9回合\n",
            "\n",
            "輸入一字母: a\n",
            "_ a _ a _ _ _ _ _ _\n",
            "剩餘8回合\n",
            "\n",
            "輸入一字母: c\n",
            "_ a _ a _ _ _ _ _ _\n",
            "剩餘7回合\n",
            "\n",
            "輸入一字母: d\n",
            "_ a _ a _ _ _ _ _ _\n",
            "剩餘6回合\n",
            "\n",
            "輸入一字母: management\n",
            "_ a _ a _ _ _ _ _ _\n",
            "剩餘5回合\n",
            "\n",
            "輸入一字母: m\n",
            "m a _ a _ _ m _ _ _\n",
            "剩餘4回合\n",
            "\n",
            "輸入一字母: n\n",
            "m a n a _ _ m _ n _\n",
            "剩餘3回合\n",
            "\n",
            "輸入一字母: g\n",
            "m a n a g _ m _ n _\n",
            "剩餘2回合\n",
            "\n",
            "輸入一字母: e\n",
            "m a n a g e m e n _\n",
            "剩餘1回合\n",
            "\n",
            "輸入一字母: t\n",
            "恭喜猜對文字: management\n"
          ]
        }
      ],
      "source": [
        "import random\n",
        "\n",
        "words = ['hello', 'people', 'breakfast','international','information','development','experience','government','everything','management','university','especially','understand','particular','technology','different','something','important','available','including','community','following','companies','education','according']\n",
        "word = random.choice(words)\n",
        "answer = word\n",
        "spaces = ['_']*len(word)\n",
        "\n",
        "# 設定猜測次數限制\n",
        "turn = len(word) + 3\n",
        "is_win = False\n",
        "\n",
        "# 確認猜字完成函數\n",
        "def check_win():\n",
        "  for space in spaces:\n",
        "    if (space == '_'):\n",
        "      return False \n",
        "  return True\n",
        "\n",
        "for turn_index in range(turn):\n",
        "  # 等待使用者輸入\n",
        "  guess = input('\\n輸入一字母: ')\n",
        "  # 檢查相同字母\n",
        "  for index , character in enumerate(word):\n",
        "      if (character == guess):\n",
        "          word = word[:index] + '*' + word[index+1:]\n",
        "          spaces[index] = character\n",
        "  # 判斷猜字完成\n",
        "  if (check_win()):\n",
        "    print(f\"恭喜猜對文字: {answer}\")\n",
        "    is_win = True\n",
        "    break\n",
        "  # 顯示目前結果\n",
        "  print(\" \".join(spaces))\n",
        "  # 顯示剩餘回合\n",
        "  if (turn_index != (turn -1) ):\n",
        "    print(f\"剩餘{turn - turn_index - 1}回合\")\n",
        "# 沒完成時的訊息\n",
        "if (not is_win):\n",
        "  print(f\"\\n抱歉，答案是{answer}\")"
      ]
    }
  ]
}