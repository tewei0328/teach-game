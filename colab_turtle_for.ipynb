{
  "nbformat": 4,
  "nbformat_minor": 0,
  "metadata": {
    "colab": {
      "provenance": [],
      "authorship_tag": "ABX9TyMFfAMhzTTLAkTeLw9qmuNQ",
      "include_colab_link": true
    },
    "kernelspec": {
      "name": "python3",
      "display_name": "Python 3"
    },
    "language_info": {
      "name": "python"
    }
  },
  "cells": [
    {
      "cell_type": "markdown",
      "metadata": {
        "id": "view-in-github",
        "colab_type": "text"
      },
      "source": [
        "<a href=\"https://colab.research.google.com/github/tewei0328/game/blob/master/colab_turtle_for.ipynb\" target=\"_parent\"><img src=\"https://colab.research.google.com/assets/colab-badge.svg\" alt=\"Open In Colab\"/></a>"
      ]
    },
    {
      "cell_type": "code",
      "execution_count": 1,
      "metadata": {
        "colab": {
          "base_uri": "https://localhost:8080/"
        },
        "id": "5VZ-Qzxf7vNH",
        "outputId": "c2bbae26-0613-4e00-e3cc-d6a1e4e56577"
      },
      "outputs": [
        {
          "output_type": "execute_result",
          "data": {
            "text/plain": [
              "2"
            ]
          },
          "metadata": {},
          "execution_count": 1
        }
      ],
      "source": [
        "1+1"
      ]
    },
    {
      "cell_type": "code",
      "source": [
        "!pip install colabturtle"
      ],
      "metadata": {
        "colab": {
          "base_uri": "https://localhost:8080/"
        },
        "id": "KLShZiBW77SC",
        "outputId": "8da8c7dc-0213-41ae-dea9-64dfd73bd0ed"
      },
      "execution_count": 2,
      "outputs": [
        {
          "output_type": "stream",
          "name": "stdout",
          "text": [
            "Looking in indexes: https://pypi.org/simple, https://us-python.pkg.dev/colab-wheels/public/simple/\n",
            "Collecting colabturtle\n",
            "  Downloading ColabTurtle-2.1.0.tar.gz (6.8 kB)\n",
            "Building wheels for collected packages: colabturtle\n",
            "  Building wheel for colabturtle (setup.py) ... \u001b[?25l\u001b[?25hdone\n",
            "  Created wheel for colabturtle: filename=ColabTurtle-2.1.0-py3-none-any.whl size=7657 sha256=1f2fc6fb1b24d2f9f2440ae4baa532359ead346212411f3dfe19002d1bbb3d84\n",
            "  Stored in directory: /root/.cache/pip/wheels/0d/ab/65/cc4478508751448dfb4ecb20a6533082855c227dfce8c13902\n",
            "Successfully built colabturtle\n",
            "Installing collected packages: colabturtle\n",
            "Successfully installed colabturtle-2.1.0\n"
          ]
        }
      ]
    },
    {
      "cell_type": "code",
      "source": [
        "from ColabTurtle.Turtle import *"
      ],
      "metadata": {
        "id": "58QVSFFl77UW"
      },
      "execution_count": 3,
      "outputs": []
    },
    {
      "cell_type": "code",
      "source": [
        "initializeTurtle()"
      ],
      "metadata": {
        "colab": {
          "base_uri": "https://localhost:8080/",
          "height": 521
        },
        "id": "GlSTuNE-77Wv",
        "outputId": "3c75348e-578e-460a-8e9c-16c65b773552"
      },
      "execution_count": 4,
      "outputs": [
        {
          "output_type": "display_data",
          "data": {
            "text/plain": [
              "<IPython.core.display.HTML object>"
            ],
            "text/html": [
              "\n",
              "      <svg width=\"800\" height=\"500\">\n",
              "        <rect width=\"100%\" height=\"100%\" fill=\"black\"/>\n",
              "        \n",
              "        <g visibility=visible transform=\"rotate(360,400,250) translate(382, 232)\">\n",
              "<path style=\" stroke:none;fill-rule:evenodd;fill:white;fill-opacity:1;\" d=\"M 18.214844 0.632812 C 16.109375 1.800781 15.011719 4.074219 15.074219 7.132812 L 15.085938 7.652344 L 14.785156 7.496094 C 13.476562 6.824219 11.957031 6.671875 10.40625 7.066406 C 8.46875 7.550781 6.515625 9.15625 4.394531 11.992188 C 3.0625 13.777344 2.679688 14.636719 3.042969 15.027344 L 3.15625 15.152344 L 3.519531 15.152344 C 4.238281 15.152344 4.828125 14.886719 8.1875 13.039062 C 9.386719 12.378906 10.371094 11.839844 10.378906 11.839844 C 10.386719 11.839844 10.355469 11.929688 10.304688 12.035156 C 9.832031 13.09375 9.257812 14.820312 8.96875 16.078125 C 7.914062 20.652344 8.617188 24.53125 11.070312 27.660156 C 11.351562 28.015625 11.363281 27.914062 10.972656 28.382812 C 8.925781 30.84375 7.945312 33.28125 8.238281 35.1875 C 8.289062 35.527344 8.28125 35.523438 8.917969 35.523438 C 10.941406 35.523438 13.074219 34.207031 15.136719 31.6875 C 15.359375 31.417969 15.328125 31.425781 15.5625 31.574219 C 16.292969 32.042969 18.023438 32.964844 18.175781 32.964844 C 18.335938 32.964844 19.941406 32.210938 20.828125 31.71875 C 20.996094 31.625 21.136719 31.554688 21.136719 31.558594 C 21.203125 31.664062 21.898438 32.414062 22.222656 32.730469 C 23.835938 34.300781 25.5625 35.132812 27.582031 35.300781 C 27.90625 35.328125 27.9375 35.308594 28.007812 34.984375 C 28.382812 33.242188 27.625 30.925781 25.863281 28.425781 L 25.542969 27.96875 L 25.699219 27.785156 C 28.945312 23.960938 29.132812 18.699219 26.257812 11.96875 L 26.207031 11.84375 L 27.945312 12.703125 C 31.53125 14.476562 32.316406 14.800781 33.03125 14.800781 C 33.976562 14.800781 33.78125 13.9375 32.472656 12.292969 C 28.519531 7.355469 25.394531 5.925781 21.921875 7.472656 L 21.558594 7.636719 L 21.578125 7.542969 C 21.699219 6.992188 21.761719 5.742188 21.699219 5.164062 C 21.496094 3.296875 20.664062 1.964844 19.003906 0.855469 C 18.480469 0.503906 18.457031 0.5 18.214844 0.632812\"/>\n",
              "</g>\n",
              "      </svg>\n",
              "    "
            ]
          },
          "metadata": {}
        }
      ]
    },
    {
      "cell_type": "code",
      "source": [
        "forward(100)\n",
        "right(90)\n",
        "forward(100)"
      ],
      "metadata": {
        "colab": {
          "base_uri": "https://localhost:8080/",
          "height": 521
        },
        "id": "ZwVg2Xt_77ZF",
        "outputId": "1a1ec788-67ae-4346-8055-f669c8eb80bd"
      },
      "execution_count": 5,
      "outputs": [
        {
          "output_type": "display_data",
          "data": {
            "text/plain": [
              "<IPython.core.display.HTML object>"
            ],
            "text/html": [
              "\n",
              "      <svg width=\"800\" height=\"500\">\n",
              "        <rect width=\"100%\" height=\"100%\" fill=\"black\"/>\n",
              "        <line x1=\"400\" y1=\"250\" x2=\"400.0\" y2=\"150.0\" stroke-linecap=\"round\" style=\"stroke:white;stroke-width:4\"/><line x1=\"400.0\" y1=\"150.0\" x2=\"500.0\" y2=\"150.0\" stroke-linecap=\"round\" style=\"stroke:white;stroke-width:4\"/>\n",
              "        <g visibility=visible transform=\"rotate(90,500.0,150.0) translate(482.0, 132.0)\">\n",
              "<path style=\" stroke:none;fill-rule:evenodd;fill:white;fill-opacity:1;\" d=\"M 18.214844 0.632812 C 16.109375 1.800781 15.011719 4.074219 15.074219 7.132812 L 15.085938 7.652344 L 14.785156 7.496094 C 13.476562 6.824219 11.957031 6.671875 10.40625 7.066406 C 8.46875 7.550781 6.515625 9.15625 4.394531 11.992188 C 3.0625 13.777344 2.679688 14.636719 3.042969 15.027344 L 3.15625 15.152344 L 3.519531 15.152344 C 4.238281 15.152344 4.828125 14.886719 8.1875 13.039062 C 9.386719 12.378906 10.371094 11.839844 10.378906 11.839844 C 10.386719 11.839844 10.355469 11.929688 10.304688 12.035156 C 9.832031 13.09375 9.257812 14.820312 8.96875 16.078125 C 7.914062 20.652344 8.617188 24.53125 11.070312 27.660156 C 11.351562 28.015625 11.363281 27.914062 10.972656 28.382812 C 8.925781 30.84375 7.945312 33.28125 8.238281 35.1875 C 8.289062 35.527344 8.28125 35.523438 8.917969 35.523438 C 10.941406 35.523438 13.074219 34.207031 15.136719 31.6875 C 15.359375 31.417969 15.328125 31.425781 15.5625 31.574219 C 16.292969 32.042969 18.023438 32.964844 18.175781 32.964844 C 18.335938 32.964844 19.941406 32.210938 20.828125 31.71875 C 20.996094 31.625 21.136719 31.554688 21.136719 31.558594 C 21.203125 31.664062 21.898438 32.414062 22.222656 32.730469 C 23.835938 34.300781 25.5625 35.132812 27.582031 35.300781 C 27.90625 35.328125 27.9375 35.308594 28.007812 34.984375 C 28.382812 33.242188 27.625 30.925781 25.863281 28.425781 L 25.542969 27.96875 L 25.699219 27.785156 C 28.945312 23.960938 29.132812 18.699219 26.257812 11.96875 L 26.207031 11.84375 L 27.945312 12.703125 C 31.53125 14.476562 32.316406 14.800781 33.03125 14.800781 C 33.976562 14.800781 33.78125 13.9375 32.472656 12.292969 C 28.519531 7.355469 25.394531 5.925781 21.921875 7.472656 L 21.558594 7.636719 L 21.578125 7.542969 C 21.699219 6.992188 21.761719 5.742188 21.699219 5.164062 C 21.496094 3.296875 20.664062 1.964844 19.003906 0.855469 C 18.480469 0.503906 18.457031 0.5 18.214844 0.632812\"/>\n",
              "</g>\n",
              "      </svg>\n",
              "    "
            ]
          },
          "metadata": {}
        }
      ]
    },
    {
      "cell_type": "code",
      "source": [
        "initializeTurtle()\n",
        "for counter in range(1, 50):\n",
        "  forward(5+counter*2)\n",
        "  right(20)"
      ],
      "metadata": {
        "colab": {
          "base_uri": "https://localhost:8080/",
          "height": 851
        },
        "id": "T0BOoiZh77bY",
        "outputId": "7fbf332d-2cff-4ce0-be96-beb21aff2343"
      },
      "execution_count": 11,
      "outputs": [
        {
          "output_type": "display_data",
          "data": {
            "text/plain": [
              "<IPython.core.display.HTML object>"
            ],
            "text/html": [
              "\n",
              "      <svg width=\"800\" height=\"500\">\n",
              "        <rect width=\"100%\" height=\"100%\" fill=\"black\"/>\n",
              "        <line x1=\"400\" y1=\"250\" x2=\"400.0\" y2=\"243.0\" stroke-linecap=\"round\" style=\"stroke:white;stroke-width:4\"/><line x1=\"400.0\" y1=\"243.0\" x2=\"403.078\" y2=\"234.543\" stroke-linecap=\"round\" style=\"stroke:white;stroke-width:4\"/><line x1=\"403.078\" y1=\"234.543\" x2=\"410.149\" y2=\"226.117\" stroke-linecap=\"round\" style=\"stroke:white;stroke-width:4\"/><line x1=\"410.149\" y1=\"226.117\" x2=\"421.407\" y2=\"219.617\" stroke-linecap=\"round\" style=\"stroke:white;stroke-width:4\"/><line x1=\"421.407\" y1=\"219.617\" x2=\"436.179\" y2=\"217.012\" stroke-linecap=\"round\" style=\"stroke:white;stroke-width:4\"/><line x1=\"436.179\" y1=\"217.012\" x2=\"452.921\" y2=\"219.964\" stroke-linecap=\"round\" style=\"stroke:white;stroke-width:4\"/><line x1=\"452.921\" y1=\"219.964\" x2=\"469.375\" y2=\"229.464\" stroke-linecap=\"round\" style=\"stroke:white;stroke-width:4\"/><line x1=\"469.375\" y1=\"229.464\" x2=\"482.874\" y2=\"245.551\" stroke-linecap=\"round\" style=\"stroke:white;stroke-width:4\"/><line x1=\"482.874\" y1=\"245.551\" x2=\"490.74\" y2=\"267.164\" stroke-linecap=\"round\" style=\"stroke:white;stroke-width:4\"/><line x1=\"490.74\" y1=\"267.164\" x2=\"490.74\" y2=\"292.164\" stroke-linecap=\"round\" style=\"stroke:white;stroke-width:4\"/><line x1=\"490.74\" y1=\"292.164\" x2=\"481.505\" y2=\"317.536\" stroke-linecap=\"round\" style=\"stroke:white;stroke-width:4\"/><line x1=\"481.505\" y1=\"317.536\" x2=\"462.864\" y2=\"339.751\" stroke-linecap=\"round\" style=\"stroke:white;stroke-width:4\"/><line x1=\"462.864\" y1=\"339.751\" x2=\"436.017\" y2=\"355.251\" stroke-linecap=\"round\" style=\"stroke:white;stroke-width:4\"/><line x1=\"436.017\" y1=\"355.251\" x2=\"403.518\" y2=\"360.981\" stroke-linecap=\"round\" style=\"stroke:white;stroke-width:4\"/><line x1=\"403.518\" y1=\"360.981\" x2=\"369.05\" y2=\"354.903\" stroke-linecap=\"round\" style=\"stroke:white;stroke-width:4\"/><line x1=\"369.05\" y1=\"354.903\" x2=\"337.007\" y2=\"336.403\" stroke-linecap=\"round\" style=\"stroke:white;stroke-width:4\"/><line x1=\"337.007\" y1=\"336.403\" x2=\"311.938\" y2=\"306.527\" stroke-linecap=\"round\" style=\"stroke:white;stroke-width:4\"/><line x1=\"311.938\" y1=\"306.527\" x2=\"297.915\" y2=\"268.0\" stroke-linecap=\"round\" style=\"stroke:white;stroke-width:4\"/><line x1=\"297.915\" y1=\"268.0\" x2=\"297.915\" y2=\"225.0\" stroke-linecap=\"round\" style=\"stroke:white;stroke-width:4\"/><line x1=\"297.915\" y1=\"225.0\" x2=\"313.306\" y2=\"182.714\" stroke-linecap=\"round\" style=\"stroke:white;stroke-width:4\"/><line x1=\"313.306\" y1=\"182.714\" x2=\"343.517\" y2=\"146.71\" stroke-linecap=\"round\" style=\"stroke:white;stroke-width:4\"/><line x1=\"343.517\" y1=\"146.71\" x2=\"385.952\" y2=\"122.21\" stroke-linecap=\"round\" style=\"stroke:white;stroke-width:4\"/><line x1=\"385.952\" y1=\"122.21\" x2=\"436.177\" y2=\"113.354\" stroke-linecap=\"round\" style=\"stroke:white;stroke-width:4\"/><line x1=\"436.177\" y1=\"113.354\" x2=\"488.372\" y2=\"122.557\" stroke-linecap=\"round\" style=\"stroke:white;stroke-width:4\"/><line x1=\"488.372\" y1=\"122.557\" x2=\"536.003\" y2=\"150.057\" stroke-linecap=\"round\" style=\"stroke:white;stroke-width:4\"/><line x1=\"536.003\" y1=\"150.057\" x2=\"572.642\" y2=\"193.722\" stroke-linecap=\"round\" style=\"stroke:white;stroke-width:4\"/><line x1=\"572.642\" y1=\"193.722\" x2=\"592.821\" y2=\"249.164\" stroke-linecap=\"round\" style=\"stroke:white;stroke-width:4\"/><line x1=\"592.821\" y1=\"249.164\" x2=\"592.821\" y2=\"310.164\" stroke-linecap=\"round\" style=\"stroke:white;stroke-width:4\"/><line x1=\"592.821\" y1=\"310.164\" x2=\"571.274\" y2=\"369.365\" stroke-linecap=\"round\" style=\"stroke:white;stroke-width:4\"/><line x1=\"571.274\" y1=\"369.365\" x2=\"529.493\" y2=\"419.158\" stroke-linecap=\"round\" style=\"stroke:white;stroke-width:4\"/><line x1=\"529.493\" y1=\"419.158\" x2=\"471.469\" y2=\"452.658\" stroke-linecap=\"round\" style=\"stroke:white;stroke-width:4\"/><line x1=\"471.469\" y1=\"452.658\" x2=\"403.517\" y2=\"464.64\" stroke-linecap=\"round\" style=\"stroke:white;stroke-width:4\"/><line x1=\"403.517\" y1=\"464.64\" x2=\"333.596\" y2=\"452.311\" stroke-linecap=\"round\" style=\"stroke:white;stroke-width:4\"/><line x1=\"333.596\" y1=\"452.311\" x2=\"270.376\" y2=\"415.811\" stroke-linecap=\"round\" style=\"stroke:white;stroke-width:4\"/><line x1=\"270.376\" y1=\"415.811\" x2=\"222.167\" y2=\"358.358\" stroke-linecap=\"round\" style=\"stroke:white;stroke-width:4\"/><line x1=\"222.167\" y1=\"358.358\" x2=\"195.831\" y2=\"286.002\" stroke-linecap=\"round\" style=\"stroke:white;stroke-width:4\"/><line x1=\"195.831\" y1=\"286.002\" x2=\"195.831\" y2=\"207.002\" stroke-linecap=\"round\" style=\"stroke:white;stroke-width:4\"/><line x1=\"195.831\" y1=\"207.002\" x2=\"223.535\" y2=\"130.887\" stroke-linecap=\"round\" style=\"stroke:white;stroke-width:4\"/><line x1=\"223.535\" y1=\"130.887\" x2=\"276.886\" y2=\"67.305\" stroke-linecap=\"round\" style=\"stroke:white;stroke-width:4\"/><line x1=\"276.886\" y1=\"67.305\" x2=\"350.498\" y2=\"24.805\" stroke-linecap=\"round\" style=\"stroke:white;stroke-width:4\"/><line x1=\"350.498\" y1=\"24.805\" x2=\"436.176\" y2=\"9.698\" stroke-linecap=\"round\" style=\"stroke:white;stroke-width:4\"/><line x1=\"436.176\" y1=\"9.698\" x2=\"523.824\" y2=\"25.153\" stroke-linecap=\"round\" style=\"stroke:white;stroke-width:4\"/><line x1=\"523.824\" y1=\"25.153\" x2=\"602.632\" y2=\"70.653\" stroke-linecap=\"round\" style=\"stroke:white;stroke-width:4\"/><line x1=\"602.632\" y1=\"70.653\" x2=\"662.411\" y2=\"141.895\" stroke-linecap=\"round\" style=\"stroke:white;stroke-width:4\"/><line x1=\"662.411\" y1=\"141.895\" x2=\"694.903\" y2=\"231.166\" stroke-linecap=\"round\" style=\"stroke:white;stroke-width:4\"/><line x1=\"694.903\" y1=\"231.166\" x2=\"694.903\" y2=\"328.166\" stroke-linecap=\"round\" style=\"stroke:white;stroke-width:4\"/><line x1=\"694.903\" y1=\"328.166\" x2=\"661.043\" y2=\"421.196\" stroke-linecap=\"round\" style=\"stroke:white;stroke-width:4\"/><line x1=\"661.043\" y1=\"421.196\" x2=\"596.121\" y2=\"498.566\" stroke-linecap=\"round\" style=\"stroke:white;stroke-width:4\"/>\n",
              "        <g visibility=visible transform=\"rotate(220,596.121,498.566) translate(578.121, 480.566)\">\n",
              "<path style=\" stroke:none;fill-rule:evenodd;fill:white;fill-opacity:1;\" d=\"M 18.214844 0.632812 C 16.109375 1.800781 15.011719 4.074219 15.074219 7.132812 L 15.085938 7.652344 L 14.785156 7.496094 C 13.476562 6.824219 11.957031 6.671875 10.40625 7.066406 C 8.46875 7.550781 6.515625 9.15625 4.394531 11.992188 C 3.0625 13.777344 2.679688 14.636719 3.042969 15.027344 L 3.15625 15.152344 L 3.519531 15.152344 C 4.238281 15.152344 4.828125 14.886719 8.1875 13.039062 C 9.386719 12.378906 10.371094 11.839844 10.378906 11.839844 C 10.386719 11.839844 10.355469 11.929688 10.304688 12.035156 C 9.832031 13.09375 9.257812 14.820312 8.96875 16.078125 C 7.914062 20.652344 8.617188 24.53125 11.070312 27.660156 C 11.351562 28.015625 11.363281 27.914062 10.972656 28.382812 C 8.925781 30.84375 7.945312 33.28125 8.238281 35.1875 C 8.289062 35.527344 8.28125 35.523438 8.917969 35.523438 C 10.941406 35.523438 13.074219 34.207031 15.136719 31.6875 C 15.359375 31.417969 15.328125 31.425781 15.5625 31.574219 C 16.292969 32.042969 18.023438 32.964844 18.175781 32.964844 C 18.335938 32.964844 19.941406 32.210938 20.828125 31.71875 C 20.996094 31.625 21.136719 31.554688 21.136719 31.558594 C 21.203125 31.664062 21.898438 32.414062 22.222656 32.730469 C 23.835938 34.300781 25.5625 35.132812 27.582031 35.300781 C 27.90625 35.328125 27.9375 35.308594 28.007812 34.984375 C 28.382812 33.242188 27.625 30.925781 25.863281 28.425781 L 25.542969 27.96875 L 25.699219 27.785156 C 28.945312 23.960938 29.132812 18.699219 26.257812 11.96875 L 26.207031 11.84375 L 27.945312 12.703125 C 31.53125 14.476562 32.316406 14.800781 33.03125 14.800781 C 33.976562 14.800781 33.78125 13.9375 32.472656 12.292969 C 28.519531 7.355469 25.394531 5.925781 21.921875 7.472656 L 21.558594 7.636719 L 21.578125 7.542969 C 21.699219 6.992188 21.761719 5.742188 21.699219 5.164062 C 21.496094 3.296875 20.664062 1.964844 19.003906 0.855469 C 18.480469 0.503906 18.457031 0.5 18.214844 0.632812\"/>\n",
              "</g>\n",
              "      </svg>\n",
              "    "
            ]
          },
          "metadata": {}
        },
        {
          "output_type": "error",
          "ename": "KeyboardInterrupt",
          "evalue": "ignored",
          "traceback": [
            "\u001b[0;31m---------------------------------------------------------------------------\u001b[0m",
            "\u001b[0;31mKeyboardInterrupt\u001b[0m                         Traceback (most recent call last)",
            "\u001b[0;32m<ipython-input-11-3ddc42e27d97>\u001b[0m in \u001b[0;36m<module>\u001b[0;34m\u001b[0m\n\u001b[1;32m      2\u001b[0m \u001b[0;32mfor\u001b[0m \u001b[0mcounter\u001b[0m \u001b[0;32min\u001b[0m \u001b[0mrange\u001b[0m\u001b[0;34m(\u001b[0m\u001b[0;36m1\u001b[0m\u001b[0;34m,\u001b[0m \u001b[0;36m50\u001b[0m\u001b[0;34m)\u001b[0m\u001b[0;34m:\u001b[0m\u001b[0;34m\u001b[0m\u001b[0;34m\u001b[0m\u001b[0m\n\u001b[1;32m      3\u001b[0m   \u001b[0mforward\u001b[0m\u001b[0;34m(\u001b[0m\u001b[0;36m5\u001b[0m\u001b[0;34m+\u001b[0m\u001b[0mcounter\u001b[0m\u001b[0;34m*\u001b[0m\u001b[0;36m2\u001b[0m\u001b[0;34m)\u001b[0m\u001b[0;34m\u001b[0m\u001b[0;34m\u001b[0m\u001b[0m\n\u001b[0;32m----> 4\u001b[0;31m   \u001b[0mright\u001b[0m\u001b[0;34m(\u001b[0m\u001b[0;36m20\u001b[0m\u001b[0;34m)\u001b[0m\u001b[0;34m\u001b[0m\u001b[0;34m\u001b[0m\u001b[0m\n\u001b[0m",
            "\u001b[0;32m/usr/local/lib/python3.7/dist-packages/ColabTurtle/Turtle.py\u001b[0m in \u001b[0;36mright\u001b[0;34m(degrees)\u001b[0m\n\u001b[1;32m    194\u001b[0m \u001b[0;34m\u001b[0m\u001b[0m\n\u001b[1;32m    195\u001b[0m     \u001b[0mturtle_degree\u001b[0m \u001b[0;34m=\u001b[0m \u001b[0;34m(\u001b[0m\u001b[0mturtle_degree\u001b[0m \u001b[0;34m+\u001b[0m \u001b[0mdegrees\u001b[0m\u001b[0;34m)\u001b[0m \u001b[0;34m%\u001b[0m \u001b[0;36m360\u001b[0m\u001b[0;34m\u001b[0m\u001b[0;34m\u001b[0m\u001b[0m\n\u001b[0;32m--> 196\u001b[0;31m     \u001b[0m_updateDrawing\u001b[0m\u001b[0;34m(\u001b[0m\u001b[0;34m)\u001b[0m\u001b[0;34m\u001b[0m\u001b[0;34m\u001b[0m\u001b[0m\n\u001b[0m\u001b[1;32m    197\u001b[0m \u001b[0;34m\u001b[0m\u001b[0m\n\u001b[1;32m    198\u001b[0m \u001b[0mrt\u001b[0m \u001b[0;34m=\u001b[0m \u001b[0mright\u001b[0m \u001b[0;31m# alias\u001b[0m\u001b[0;34m\u001b[0m\u001b[0;34m\u001b[0m\u001b[0m\n",
            "\u001b[0;32m/usr/local/lib/python3.7/dist-packages/ColabTurtle/Turtle.py\u001b[0m in \u001b[0;36m_updateDrawing\u001b[0;34m()\u001b[0m\n\u001b[1;32m    143\u001b[0m     \u001b[0;32mif\u001b[0m \u001b[0mdrawing_window\u001b[0m \u001b[0;34m==\u001b[0m \u001b[0;32mNone\u001b[0m\u001b[0;34m:\u001b[0m\u001b[0;34m\u001b[0m\u001b[0;34m\u001b[0m\u001b[0m\n\u001b[1;32m    144\u001b[0m         \u001b[0;32mraise\u001b[0m \u001b[0mAttributeError\u001b[0m\u001b[0;34m(\u001b[0m\u001b[0;34m\"Display has not been initialized yet. Call initializeTurtle() before using.\"\u001b[0m\u001b[0;34m)\u001b[0m\u001b[0;34m\u001b[0m\u001b[0;34m\u001b[0m\u001b[0m\n\u001b[0;32m--> 145\u001b[0;31m     \u001b[0mtime\u001b[0m\u001b[0;34m.\u001b[0m\u001b[0msleep\u001b[0m\u001b[0;34m(\u001b[0m\u001b[0m_speedToSec\u001b[0m\u001b[0;34m(\u001b[0m\u001b[0mturtle_speed\u001b[0m\u001b[0;34m)\u001b[0m\u001b[0;34m)\u001b[0m\u001b[0;34m\u001b[0m\u001b[0;34m\u001b[0m\u001b[0m\n\u001b[0m\u001b[1;32m    146\u001b[0m     \u001b[0mdrawing_window\u001b[0m\u001b[0;34m.\u001b[0m\u001b[0mupdate\u001b[0m\u001b[0;34m(\u001b[0m\u001b[0mHTML\u001b[0m\u001b[0;34m(\u001b[0m\u001b[0m_generateSvgDrawing\u001b[0m\u001b[0;34m(\u001b[0m\u001b[0;34m)\u001b[0m\u001b[0;34m)\u001b[0m\u001b[0;34m)\u001b[0m\u001b[0;34m\u001b[0m\u001b[0;34m\u001b[0m\u001b[0m\n\u001b[1;32m    147\u001b[0m \u001b[0;34m\u001b[0m\u001b[0m\n",
            "\u001b[0;31mKeyboardInterrupt\u001b[0m: "
          ]
        }
      ]
    },
    {
      "cell_type": "markdown",
      "source": [
        "for counter in range(1, 6):  # range(1, 6) gives values from 1 to 5 inclusive (but not 6)\n",
        "  # statements"
      ],
      "metadata": {
        "id": "Lwzqp-wQAAYc"
      }
    },
    {
      "cell_type": "markdown",
      "source": [],
      "metadata": {
        "id": "wvmTwoRcAAbF"
      }
    },
    {
      "cell_type": "markdown",
      "source": [],
      "metadata": {
        "id": "XwkZ4CBMAAdt"
      }
    },
    {
      "cell_type": "markdown",
      "source": [],
      "metadata": {
        "id": "OntBO9NrAAgc"
      }
    },
    {
      "cell_type": "code",
      "source": [],
      "metadata": {
        "id": "oYXScYeU77di"
      },
      "execution_count": null,
      "outputs": []
    },
    {
      "cell_type": "code",
      "source": [],
      "metadata": {
        "id": "R2_UHptH77gW"
      },
      "execution_count": null,
      "outputs": []
    }
  ]
}