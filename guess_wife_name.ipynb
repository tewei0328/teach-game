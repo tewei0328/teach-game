{
  "nbformat": 4,
  "nbformat_minor": 0,
  "metadata": {
    "colab": {
      "provenance": [],
      "authorship_tag": "ABX9TyPCIayIUO8IcNwE7ofLvA1i",
      "include_colab_link": true
    },
    "kernelspec": {
      "name": "python3",
      "display_name": "Python 3"
    },
    "language_info": {
      "name": "python"
    }
  },
  "cells": [
    {
      "cell_type": "markdown",
      "metadata": {
        "id": "view-in-github",
        "colab_type": "text"
      },
      "source": [
        "<a href=\"https://colab.research.google.com/github/tewei0328/game/blob/master/guess_wife_name.ipynb\" target=\"_parent\"><img src=\"https://colab.research.google.com/assets/colab-badge.svg\" alt=\"Open In Colab\"/></a>"
      ]
    },
    {
      "cell_type": "code",
      "execution_count": 1,
      "metadata": {
        "colab": {
          "base_uri": "https://localhost:8080/"
        },
        "id": "c6cwnQokDRUA",
        "outputId": "b2d5939b-2f49-422c-cc0d-c748e6798bd2"
      },
      "outputs": [
        {
          "output_type": "stream",
          "name": "stdout",
          "text": [
            "What is my wife's name?\n"
          ]
        }
      ],
      "source": [
        "print(\"What is my wife's name?\")"
      ]
    },
    {
      "cell_type": "code",
      "source": [
        "aaa=input()\n",
        "print()"
      ],
      "metadata": {
        "colab": {
          "base_uri": "https://localhost:8080/"
        },
        "id": "I9P_Fj6LDS-_",
        "outputId": "a8922369-6ed4-42f5-f8ea-d6c0397f00fb"
      },
      "execution_count": 2,
      "outputs": [
        {
          "output_type": "stream",
          "name": "stdout",
          "text": [
            "lily\n",
            "\n"
          ]
        }
      ]
    },
    {
      "cell_type": "code",
      "source": [
        "if aaa==\"lily\":\n",
        "  print(\"Correct\")\n",
        "else:\n",
        "  print(\"Wrong\")  "
      ],
      "metadata": {
        "colab": {
          "base_uri": "https://localhost:8080/"
        },
        "id": "jPm6k8gmDTBa",
        "outputId": "94b8b2d0-6dfe-4e58-dae8-a9330f448fda"
      },
      "execution_count": 5,
      "outputs": [
        {
          "output_type": "stream",
          "name": "stdout",
          "text": [
            "Correct\n"
          ]
        }
      ]
    },
    {
      "cell_type": "code",
      "source": [
        "print(\"What is my wife's name?\")\n",
        "aaa=input()\n",
        "print()\n",
        "if aaa==\"lily\":\n",
        "  print(\"Correct\")\n",
        "else:\n",
        "  print(\"Wrong\")  "
      ],
      "metadata": {
        "colab": {
          "base_uri": "https://localhost:8080/"
        },
        "id": "a5JLWJw_DTDn",
        "outputId": "f48406a8-74a8-4b43-9d60-94b6f668b120"
      },
      "execution_count": 6,
      "outputs": [
        {
          "output_type": "stream",
          "name": "stdout",
          "text": [
            "What is my wife's name?\n",
            "honey\n",
            "\n",
            "Wrong\n"
          ]
        }
      ]
    },
    {
      "cell_type": "code",
      "source": [],
      "metadata": {
        "id": "IkYrtMyqDTF4"
      },
      "execution_count": null,
      "outputs": []
    },
    {
      "cell_type": "code",
      "source": [],
      "metadata": {
        "id": "OaUolZzbDTIe"
      },
      "execution_count": null,
      "outputs": []
    }
  ]
}